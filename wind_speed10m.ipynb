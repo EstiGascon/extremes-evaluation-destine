{
 "cells": [
  {
   "cell_type": "markdown",
   "id": "communist-voice",
   "metadata": {},
   "source": [
    "# **PLOT 10m WIND SPEED AND MSLP**"
   ]
  },
  {
   "cell_type": "code",
   "execution_count": 10,
   "id": "public-edition",
   "metadata": {},
   "outputs": [],
   "source": [
    "import metview as mv\n",
    "import numpy as np\n",
    "from datetime import date, datetime, timedelta\n",
    "import pandas as pd\n",
    "import numpy as np\n",
    "import os\n",
    "import csv\n",
    "import math"
   ]
  },
  {
   "cell_type": "markdown",
   "id": "czech-deficit",
   "metadata": {},
   "source": [
    "## Define your variables"
   ]
  },
  {
   "cell_type": "code",
   "execution_count": 15,
   "id": "accompanied-relative",
   "metadata": {},
   "outputs": [],
   "source": [
    "adate = datetime(2020,9,15) \n",
    "atime = 0\n",
    "step_inc = 3\n",
    "expver = \"hyyy\"\n",
    "cycle = \"48r1\"\n",
    "res = \"2.8km\"\n",
    "var = \"wspd10\"\n",
    "var_long = 'Wind speed at 10 m'\n",
    "area = [ 30.5,12,41.3106,23.7475 ]\n",
    "path_in = \"/ec/vol/destine/extreme_cases_grib/Ianos_20200915/\"\n",
    "path_out = \"/perm/moeg/DestinE/CaseStudies/Ianos_20200917/plots_outEVO/10m_windspeed_test/\""
   ]
  },
  {
   "cell_type": "markdown",
   "id": "weird-spine",
   "metadata": {},
   "source": [
    "### *Print paths*"
   ]
  },
  {
   "cell_type": "code",
   "execution_count": 16,
   "id": "worth-burton",
   "metadata": {},
   "outputs": [
    {
     "name": "stdout",
     "output_type": "stream",
     "text": [
      "EXP: hyyy (48r1 2.8km)\n",
      "hyyy_48r1_2.8km_20200915.grib\n",
      "wspd10_hyyy_48r1_2.8km_20200915\n"
     ]
    }
   ],
   "source": [
    "title = \"EXP: \" + expver + \" (\" + cycle + \" \" + res + \")\"\n",
    "path_file_in = expver + \"_\" + cycle + \"_\" + res + \"_\" + adate.strftime(\"%Y%m%d\")  + \".grib\" \n",
    "path_file_out = var + \"_\" + expver + \"_\" + cycle + \"_\" + res + \"_\" + adate.strftime(\"%Y%m%d\")\n",
    "print(title)\n",
    "print(path_file_in)\n",
    "print(path_file_out)"
   ]
  },
  {
   "cell_type": "markdown",
   "id": "thousand-intensity",
   "metadata": {},
   "source": [
    "### *Create output folder if needed*"
   ]
  },
  {
   "cell_type": "code",
   "execution_count": 17,
   "id": "individual-specific",
   "metadata": {},
   "outputs": [],
   "source": [
    "# path to files\n",
    "if os.path.isdir(f\"{path_out}\") is False:\n",
    "    os.makedirs(f\"{path_out}\")"
   ]
  },
  {
   "cell_type": "markdown",
   "id": "earlier-stress",
   "metadata": {},
   "source": [
    "## Open grib files"
   ]
  },
  {
   "cell_type": "code",
   "execution_count": 18,
   "id": "representative-sharing",
   "metadata": {},
   "outputs": [
    {
     "name": "stdout",
     "output_type": "stream",
     "text": [
      "/ec/vol/destine/extreme_cases_grib/Ianos_20200915/hyyy_48r1_2.8km_20200915.grib\n"
     ]
    }
   ],
   "source": [
    "file_grib = mv.read(path_in + path_file_in)\n",
    "print(path_in + path_file_in)"
   ]
  },
  {
   "cell_type": "markdown",
   "id": "incomplete-carroll",
   "metadata": {},
   "source": [
    "### *Select your variables*"
   ]
  },
  {
   "cell_type": "code",
   "execution_count": 19,
   "id": "enabling-domain",
   "metadata": {},
   "outputs": [],
   "source": [
    "u = file_grib.select(\n",
    "    shortName=\"10u\",\n",
    "    )\n",
    "\n",
    "v = file_grib.select(\n",
    "    shortName=\"10v\",\n",
    "    )\n",
    "\n",
    "mslp = file_grib.select(\n",
    "    shortName=\"msl\",\n",
    "    )"
   ]
  },
  {
   "cell_type": "markdown",
   "id": "incorporate-christmas",
   "metadata": {},
   "source": [
    "## Define plotting features"
   ]
  },
  {
   "cell_type": "code",
   "execution_count": 29,
   "id": "suitable-nashville",
   "metadata": {},
   "outputs": [],
   "source": [
    "windspeed_contour = mv.mcont(\n",
    "    legend=\"on\",\n",
    "    contour=\"off\",\n",
    "    contour_level_selection_type=\"level_list\",\n",
    "    contour_level_list=[0,2,4,6,8,10,12,14,16,18,20,22,24,26,28,30,32,34,36],\n",
    "    contour_label=\"off\",\n",
    "    contour_shade=\"on\",\n",
    "    contour_shade_technique=\"grid_shading\",\n",
    "    contour_shade_colour_method=\"list\",\n",
    "    contour_shade_colour_list=[\"RGB(0.003922,0.1201,1)\",\"RGB(0.003922,0.4854,1)\",\"RGB(0.003922,0.7842,1)\",\"RGB(0.1662,0.9867,0.932)\",\"RGB(0.003922,1,0.7178)\",\"RGB(0.003906,0.9922,0.2345)\",\"RGB(0.01845,0.7659,0.28)\",\"RGB(0.4854,1,0.003922)\",\"RGB(0.7387,0.98,0.2906)\",\"RGB(1,1,0.003922)\",\"RGB(0.9736,0.8492,0.3519)\",\"RGB(0.9922,0.7451,0.003906)\",\"RGB(0.9942,0.6035,0.01758)\",\"RGB(0.9837,0.3979,0.1849)\",\"RGB(0.9842,0.3503,0.208)\",\"RGB(0.9961,0.04833,0.01564)\",\"RGB(0.6989,0.02264,0.4284)\",\"RGB(0.6303,0.02614,0.6405)\",\"RGB(0.5637,0.005859,0.9902)\"]\n",
    "    )\n",
    "\n",
    "cont_mslp = mv.mcont(\n",
    "    contour_min_level=0,\n",
    "    contour_max_level=10000,\n",
    "    contour_level_selection_type=\"interval\",\n",
    "    contour_interval=4,\n",
    "    contour_reference_level=1000,\n",
    "    contour_line_thickness=4,\n",
    "    contour_line_colour=\"grey\",\n",
    "    contour_highlight_frequency=5,\n",
    "    contour_highlight_thickness=4,\n",
    "    contour_highlight_colour=\"grey\",\n",
    "    contour_label_colour=\"grey\",\n",
    "    contour_label_height=0.5\n",
    "    )\n",
    "\n",
    "coastlines = mv.mcoast(\n",
    "   map_coastline_thickness=4,\n",
    "   map_boundaries=\"on\",\n",
    "   map_boundaries_colour=\"black\",\n",
    "   map_boundaries_thickness=2,\n",
    "   map_disputed_boundaries_thickness=2,\n",
    "   map_administrative_boundaries=\"on\",\n",
    "   map_administrative_boundaries_countries_list=\"ita\",\n",
    "   map_administrative_boundaries_style=\"solid\",\n",
    "   map_administrative_boundaries_colour=\"red\",\n",
    "   map_grid=\"off\",\n",
    "   map_label=\"off\"\n",
    "   )\n",
    "\n",
    "\n",
    "geoview = mv.geoview(\n",
    "    map_projection=\"cylindrical\",\n",
    "    map_area_definition=\"corners\",\n",
    "    area=area\n",
    "    )"
   ]
  },
  {
   "cell_type": "code",
   "execution_count": 30,
   "id": "prescribed-potter",
   "metadata": {},
   "outputs": [],
   "source": [
    "legend = mv.mlegend(\n",
    "   legend_text_colour=\"black\",\n",
    "   legend_automatic_position=\"right\",\n",
    "   legend_units_text=\"m/s\",\n",
    "   legend_text_font_style=\"bold\",\n",
    "   legend_text_font_size=0.55,\n",
    "   legend_entry_text_width=50\n",
    "   )\n"
   ]
  },
  {
   "cell_type": "markdown",
   "id": "electric-lancaster",
   "metadata": {},
   "source": [
    "## Plot and save outputs"
   ]
  },
  {
   "cell_type": "markdown",
   "id": "particular-publicity",
   "metadata": {},
   "source": [
    "### *Define time steps*"
   ]
  },
  {
   "cell_type": "code",
   "execution_count": 31,
   "id": "renewable-championship",
   "metadata": {},
   "outputs": [
    {
     "name": "stdout",
     "output_type": "stream",
     "text": [
      "['0', '3', '6', '9', '12', '15', '18', '21', '24', '27', '30', '33', '36', '39', '42', '45', '48', '51', '54', '57', '60', '63', '66', '69', '72', '75', '78', '81', '84', '87', '90', '93', '96', '99', '102', '105', '108', '111', '114', '117', '120']\n",
      "41\n"
     ]
    }
   ],
   "source": [
    "all_steps = mslp.grib_get_string('step')\n",
    "print(all_steps)\n",
    "num_steps = int(mv.count(all_steps))\n",
    "print(num_steps)"
   ]
  },
  {
   "cell_type": "markdown",
   "id": "external-basic",
   "metadata": {},
   "source": [
    "### *Loop in time steps*"
   ]
  },
  {
   "cell_type": "code",
   "execution_count": 32,
   "id": "temporal-average",
   "metadata": {},
   "outputs": [
    {
     "name": "stdout",
     "output_type": "stream",
     "text": [
      "2020-09-15 00:00:00\n",
      "2020-09-15 03:00:00\n",
      "2020-09-15 06:00:00\n",
      "2020-09-15 09:00:00\n",
      "2020-09-15 12:00:00\n",
      "2020-09-15 15:00:00\n",
      "2020-09-15 18:00:00\n",
      "2020-09-15 21:00:00\n",
      "2020-09-16 00:00:00\n",
      "2020-09-16 03:00:00\n",
      "2020-09-16 06:00:00\n",
      "2020-09-16 09:00:00\n",
      "2020-09-16 12:00:00\n",
      "2020-09-16 15:00:00\n",
      "2020-09-16 18:00:00\n",
      "2020-09-16 21:00:00\n",
      "2020-09-17 00:00:00\n",
      "2020-09-17 03:00:00\n",
      "2020-09-17 06:00:00\n",
      "2020-09-17 09:00:00\n",
      "2020-09-17 12:00:00\n",
      "2020-09-17 15:00:00\n",
      "2020-09-17 18:00:00\n",
      "2020-09-17 21:00:00\n",
      "2020-09-18 00:00:00\n",
      "2020-09-18 03:00:00\n",
      "2020-09-18 06:00:00\n",
      "2020-09-18 09:00:00\n",
      "2020-09-18 12:00:00\n",
      "2020-09-18 15:00:00\n",
      "2020-09-18 18:00:00\n",
      "2020-09-18 21:00:00\n",
      "2020-09-19 00:00:00\n",
      "2020-09-19 03:00:00\n",
      "2020-09-19 06:00:00\n",
      "2020-09-19 09:00:00\n",
      "2020-09-19 12:00:00\n",
      "2020-09-19 15:00:00\n",
      "2020-09-19 18:00:00\n",
      "2020-09-19 21:00:00\n"
     ]
    }
   ],
   "source": [
    "for step in range(0, int(all_steps[num_steps-1]), step_inc):\n",
    "    \n",
    "    date_verif = adate + timedelta(hours=step)\n",
    "    time_verif = mv.hour(date_verif)\n",
    "    print(date_verif)\n",
    "   # print(time_verif)\n",
    "    \n",
    "    u_step = u.select(step=step)\n",
    "    v_step = v.select(step=step)\n",
    "    mslp_step = mslp.select(step=step)\n",
    "    \n",
    "    text_plotting = mv.mtext(\n",
    "        text_line_count=3,\n",
    "        text_line_1=var_long,\n",
    "        text_line_2=adate.strftime(\"%Y-%m-%d\") + \" T+\" + str(\"%2.0f\" % step) + \"h. Valid on \" + date_verif.strftime(\"%Y-%m-%d\") + \" at \" + str(\"%.0f\" % time_verif) + \" UTC\",\n",
    "        text_line_3=title, \n",
    "        text_font_size=0.8\n",
    "        )\n",
    "\n",
    "#    filtered_title = mv.mtext(\n",
    "#        text_lines          = [\"Temperature at 850 hPa and Geopotential at 500 hPa    STEP <grib_info key='step' where='shortName=10u'/>\",\n",
    "#                               \"START TIME: <grib_info key='base-date' format='%Y-%m-%d %H:%M:00'  where='shortName=10u'/>\", \n",
    "#                               \"VALID TIME: <grib_info key='valid-date' format='%Y-%m-%d %H:%M:00' where='shortName=10u'/>\"])\n",
    "\n",
    "\n",
    "    w = mv.sqrt(u_step*u_step + v_step*v_step)\n",
    "\n",
    "    \n",
    "    mv.setoutput(mv.pdf_output(output_name=path_out + path_file_out + \"_\" + str(\"%03.0f\" % step) + \"h\"))\n",
    "\n",
    "    mv.plot(w,windspeed_contour, mslp_step, cont_mslp, coastlines, geoview, legend, text_plotting)"
   ]
  },
  {
   "cell_type": "markdown",
   "id": "wired-general",
   "metadata": {},
   "source": [
    "## *(Retrieve data. Move up in case you have not retrieved the data yet)"
   ]
  },
  {
   "cell_type": "code",
   "execution_count": 28,
   "id": "oriented-resistance",
   "metadata": {},
   "outputs": [],
   "source": [
    "#u = retrieve(\n",
    "#    type=\"fc\",\n",
    "#    levtype=\"sfc\",\n",
    "#    param=['10u'],\n",
    "#    expver=expver,\n",
    "#    class=\"rd\",\n",
    "#    date=adate,\n",
    "#    time=atime,\n",
    "#    step=steps\n",
    "#    )\n",
    "\n",
    "#v = retrieve(\n",
    "#    type=\"fc\",\n",
    "#    levtype=\"sfc\",\n",
    "#    param=['10v'],\n",
    "#    expver=expver,\n",
    "#    class=\"rd\",\n",
    "#    date=adate,\n",
    "#    time=atime,\n",
    "#    step=steps\n",
    "#    )\n",
    "\n",
    "#mslp = retrieve(\n",
    "#    levtype=\"sfc\",\n",
    "#    class=\"rd\",\n",
    "#    date=adate,\n",
    "#    time=atime,\n",
    "#    step=steps,\n",
    "#    expver=expver,\n",
    "#    levtype='sfc',\n",
    "#    param=\"msl\",\n",
    "#    type='fc'\n",
    "#    )    "
   ]
  },
  {
   "cell_type": "code",
   "execution_count": null,
   "id": "controlling-andrew",
   "metadata": {},
   "outputs": [],
   "source": []
  },
  {
   "cell_type": "code",
   "execution_count": null,
   "id": "changing-dakota",
   "metadata": {},
   "outputs": [],
   "source": []
  },
  {
   "cell_type": "code",
   "execution_count": null,
   "id": "blocked-annotation",
   "metadata": {},
   "outputs": [],
   "source": []
  }
 ],
 "metadata": {
  "kernelspec": {
   "display_name": "Python 3",
   "language": "python",
   "name": "python3"
  },
  "language_info": {
   "codemirror_mode": {
    "name": "ipython",
    "version": 3
   },
   "file_extension": ".py",
   "mimetype": "text/x-python",
   "name": "python",
   "nbconvert_exporter": "python",
   "pygments_lexer": "ipython3",
   "version": "3.8.8"
  }
 },
 "nbformat": 4,
 "nbformat_minor": 5
}

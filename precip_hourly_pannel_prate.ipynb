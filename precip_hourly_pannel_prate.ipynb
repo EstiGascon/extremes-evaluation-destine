{
 "cells": [
  {
   "cell_type": "markdown",
   "id": "reflected-burns",
   "metadata": {},
   "source": [
    "# **PLOT PANNEL PRECIPITATION RATES**"
   ]
  },
  {
   "cell_type": "code",
   "execution_count": 16,
   "id": "interim-pepper",
   "metadata": {},
   "outputs": [],
   "source": [
    "import metview as mv\n",
    "import numpy as np\n",
    "import xarray as xr\n",
    "from datetime import date, datetime, timedelta\n",
    "import pandas as pd\n",
    "import numpy as np\n",
    "import os"
   ]
  },
  {
   "cell_type": "markdown",
   "id": "sought-grounds",
   "metadata": {},
   "source": [
    "## Define your variables"
   ]
  },
  {
   "cell_type": "code",
   "execution_count": 17,
   "id": "infinite-oxygen",
   "metadata": {},
   "outputs": [],
   "source": [
    "adate = datetime(2024,4,15)              # Forecast initialisation day\n",
    "atime = 0                                # Forecast initialisation time\n",
    "acc = 1                                  # Accumulation period\n",
    "step_inc = 1                             # Step increment  \n",
    "cycle = \"48r1\"   \n",
    "cycle_oper = \"48r1\"                     # Model cycle \n",
    "res1 = \"9km\"                            # Horizontal resolution (of your experiment)\n",
    "res2 = \"4km\"                             # Horizontal resolution (of your experiment)\n",
    "expver1 = \"oper\"                         # Experiment version (expver)\n",
    "expver2 = \"i4ql\"                         # Experiment version (expver)\n",
    "var = \"prec_rate\"                        # Variable short name\n",
    "var1 = \"crr\"\n",
    "var2 = \"lsrr\"\n",
    "var_long = 'Hourly precipitation rate (mm/h)'  # Variable long name\n",
    "area = [ 41.02,-6.07,60,21 ]                  # Plot area\n",
    "obsdir = '/ec/vol/diagnostics/GPM_IMERG/'\n",
    "path_in = \"/ec/vol/destine/extreme_cases_grib/Germany_SquallLine_20240415/\"\n",
    "path_out = \"/perm/moeg/DestinE/CaseStudies/Germany_SquallLine_20240415/plots_outEVO/hourly_prate/\""
   ]
  },
  {
   "cell_type": "markdown",
   "id": "official-forge",
   "metadata": {},
   "source": [
    "### *Print paths*"
   ]
  },
  {
   "cell_type": "code",
   "execution_count": 18,
   "id": "super-boards",
   "metadata": {},
   "outputs": [
    {
     "name": "stdout",
     "output_type": "stream",
     "text": [
      "HRES: oper (48r1 9km)\n",
      "DestinE: i4ql (48r1 4km)\n",
      "oper_48r1_9km_20240415.grib\n",
      "i4ql_48r1_4km_20240415.grib\n",
      "prec_rate_48r1_pannel_HRES_DestinE_hourly_prate_20240415\n"
     ]
    }
   ],
   "source": [
    "title1 = \"HRES: \" + expver1 + \" (\" + cycle + \" \" + res1 + \")\"\n",
    "title2 = \"DestinE: \" + expver2 + \" (\" + cycle_oper + \" \" + res2 + \")\"\n",
    "\n",
    "path_file_in1 = expver1 + \"_\" + cycle + \"_\" + res1 + \"_\" + adate.strftime(\"%Y%m%d\")  + \".grib\" \n",
    "path_file_in2 = expver2 + \"_\" + cycle_oper + \"_\" + res2 + \"_\" + adate.strftime(\"%Y%m%d\")  + \".grib\" \n",
    "path_file_out = var + \"_\" + cycle + \"_\" + \"pannel_HRES_DestinE_hourly_prate_\" + adate.strftime(\"%Y%m%d\")\n",
    "\n",
    "print(title1)\n",
    "print(title2)\n",
    "print(path_file_in1)\n",
    "print(path_file_in2)\n",
    "print(path_file_out)"
   ]
  },
  {
   "cell_type": "markdown",
   "id": "polish-dutch",
   "metadata": {},
   "source": [
    "### *Create output folder if needed*"
   ]
  },
  {
   "cell_type": "code",
   "execution_count": 19,
   "id": "civil-tracker",
   "metadata": {},
   "outputs": [],
   "source": [
    "# path to files\n",
    "if os.path.isdir(f\"{path_out}\") is False:\n",
    "    os.makedirs(f\"{path_out}\")"
   ]
  },
  {
   "cell_type": "markdown",
   "id": "fatty-borough",
   "metadata": {},
   "source": [
    "## Open grib files"
   ]
  },
  {
   "cell_type": "code",
   "execution_count": 20,
   "id": "suspended-comfort",
   "metadata": {},
   "outputs": [
    {
     "name": "stdout",
     "output_type": "stream",
     "text": [
      "/ec/vol/destine/extreme_cases_grib/Germany_SquallLine_20240415/oper_48r1_9km_20240415.grib\n",
      "/ec/vol/destine/extreme_cases_grib/Germany_SquallLine_20240415/i4ql_48r1_4km_20240415.grib\n"
     ]
    }
   ],
   "source": [
    "file_grib1 = mv.read(path_in + path_file_in1)\n",
    "file_grib2 = mv.read(path_in + path_file_in2)\n",
    "print(path_in + path_file_in1)\n",
    "print(path_in + path_file_in2)\n"
   ]
  },
  {
   "cell_type": "markdown",
   "id": "front-ethernet",
   "metadata": {},
   "source": [
    "### *Select your variables*"
   ]
  },
  {
   "cell_type": "code",
   "execution_count": 21,
   "id": "experienced-starter",
   "metadata": {},
   "outputs": [],
   "source": [
    "crr1 = file_grib1.select(\n",
    "    shortName=var1,\n",
    "    )\n",
    "lsrr1 = file_grib1.select(\n",
    "    shortName=var2,\n",
    "    )\n",
    "crr2 = file_grib2.select(\n",
    "    shortName=var1,\n",
    "    )\n",
    "lsrr2 = file_grib2.select(\n",
    "    shortName=var2,\n",
    "    )\n",
    "\n",
    "\n",
    "tp1=(crr1+lsrr1)*3600\n",
    "tp2=(crr2+lsrr2)*3600"
   ]
  },
  {
   "cell_type": "markdown",
   "id": "optical-cabin",
   "metadata": {},
   "source": [
    "## Define plotting features"
   ]
  },
  {
   "cell_type": "code",
   "execution_count": 22,
   "id": "velvet-chile",
   "metadata": {},
   "outputs": [],
   "source": [
    "coastlines = mv.mcoast(\n",
    "    map_coastline_thickness=2,\n",
    "    map_grid=\"off\",\n",
    "    map_label=\"off\",\n",
    "    map_boundaries=\"off\",\n",
    "    map_boundaries_color=\"black\",\n",
    "    map_boundaries_thickness=\"1\",\n",
    "    map_disputed_boundaries_thickness=\"1\",\n",
    "    map_administrative_boundaries=\"off\",\n",
    "    map_administrative_boundaries_countries_list=\"ita\",\n",
    "    map_administrative_boundaries_style=\"solid\",\n",
    "    map_administrative_boundaries_colour=\"red\"\n",
    "    )\n",
    "\n",
    "geoview = mv.geoview(\n",
    "    map_projection=\"cylindrical\",\n",
    "    map_area_definition=\"corners\",\n",
    "    area=area,\n",
    "    coastlines=coastlines\n",
    "    )\n",
    "\n",
    "R24_contour = mv.mcont(\n",
    "    legend=\"off\",\n",
    "    contour=\"off\",\n",
    "    contour_level_selection_type=\"level_list\",\n",
    "    contour_level_list=[0.2,0.5,0.8,1.2,1.5,3,5,8,12,15,20,25,30,35,40,45,100],\n",
    "    contour_label=\"off\",\n",
    "    contour_shade=\"on\",\n",
    "    contour_shade_colour_method=\"list\",\n",
    "    contour_shade_technique=\"GRID_SHADING\",\n",
    "    contour_shade_colour_list=[\"RGB(0.75,0.95,0.93)\",\"RGB(0.45,0.93,0.78)\",\"RGB(0.06999,0.85,0.61)\",\"RGB(0.53,0.8,0.13)\",\"RGB(0.6,0.91,0.05699)\",\"RGB(0.9,1,0.4)\",\"RGB(0.89,0.89,0.066)\",\"RGB(1,0.73,0.003906)\",\"RGB(1,0.49,0.003906)\",\"red\",\"RGB(0.85,0.003906,1)\",\"RGB(0.63,0.007294,0.92)\",\"RGB(0.37,0.29,0.91)\",\"RGB(0.03999,0.03999,0.84)\",\"RGB(0.04199,0.04199,0.43)\",\"RGB(0.45,0.45,0.45)\"]\n",
    "    )   \n",
    "\n",
    "R24_contour_legend = mv.mcont(\n",
    "    legend=\"on\",\n",
    "    contour=\"off\",\n",
    "    contour_level_selection_type=\"level_list\",\n",
    "    contour_level_list=[0.2,0.5,0.8,1.2,1.5,3,5,8,12,15,20,25,30,35,40,45,100],\n",
    "    contour_label=\"off\",\n",
    "    contour_shade=\"on\",\n",
    "    contour_shade_colour_method=\"list\",\n",
    "    contour_shade_technique=\"GRID_SHADING\",\n",
    "    contour_shade_colour_list=[\"RGB(0.75,0.95,0.93)\",\"RGB(0.45,0.93,0.78)\",\"RGB(0.06999,0.85,0.61)\",\"RGB(0.53,0.8,0.13)\",\"RGB(0.6,0.91,0.05699)\",\"RGB(0.9,1,0.4)\",\"RGB(0.89,0.89,0.066)\",\"RGB(1,0.73,0.003906)\",\"RGB(1,0.49,0.003906)\",\"red\",\"RGB(0.85,0.003906,1)\",\"RGB(0.63,0.007294,0.92)\",\"RGB(0.37,0.29,0.91)\",\"RGB(0.03999,0.03999,0.84)\",\"RGB(0.04199,0.04199,0.43)\",\"RGB(0.45,0.45,0.45)\"]\n",
    "    )  \n",
    "\n",
    "R24_contour_new2 = mv.mcont(\n",
    "    legend=\"off\",\n",
    "    contour=\"off\",\n",
    "    contour_level_selection_type=\"level_list\",\n",
    "    contour_level_list=[0,0.1,0.25,0.5,1,1.5,2,2.5,3,4,5,6,8,10,12,20,40],\n",
    "    contour_label=\"off\",\n",
    "    contour_shade=\"on\",\n",
    "    contour_shade_colour_method=\"list\",\n",
    "    contour_shade_technique=\"GRID_SHADING\",\n",
    " #   contour_shade_colour_list=[\"RGB(0.75,0.95,0.93)\",\"RGB(0.45,0.93,0.78)\",\"RGB(0.06999,0.85,0.61)\",\"RGB(0.53,0.8,0.13)\",\"RGB(0.6,0.91,0.05699)\",\"RGB(0.9,1,0.4)\",\"RGB(0.89,0.89,0.066)\",\"RGB(1,0.73,0.003906)\",\"RGB(1,0.49,0.003906)\",\"red\",\"RGB(0.85,0.003906,1)\",\"RGB(0.63,0.007294,0.92)\",\"RGB(0.37,0.29,0.91)\",\"RGB(0.03999,0.03999,0.84)\",\"RGB(0.04199,0.04199,0.43)\",\"RGB(0.45,0.45,0.45)\"]\n",
    "    contour_shade_colour_list=[\"white\",\"RGB(0.75,0.95,0.93)\",\"RGB(0.45,0.93,0.78)\",\"RGB(0.06999,0.85,0.61)\",\"RGB(0.53,0.8,0.13)\",\"RGB(0.6,0.91,0.05699)\",\"RGB(0.9,1,0.4)\",\"RGB(0.89,0.89,0.066)\",\"RGB(1,0.73,0.003906)\",\"RGB(1,0.49,0.003906)\",\"red\",\"RGB(0.85,0.003906,1)\",\"RGB(0.63,0.007294,0.92)\",\"RGB(0.37,0.29,0.91)\",\"RGB(0.03999,0.03999,0.84)\",\"RGB(0.04199,0.04199,0.43)\",\"RGB(0.45,0.45,0.45)\"]\n",
    ")   \n",
    "\n",
    "R24_contour_new2_legend = mv.mcont(\n",
    "    legend=\"on\",\n",
    "    contour=\"off\",\n",
    "    contour_level_selection_type=\"level_list\",\n",
    "    contour_level_list=[0,0.1,0.25,0.5,1,1.5,2,2.5,3,4,5,6,8,10,12,20,40],\n",
    "    contour_label=\"off\",\n",
    "    contour_shade=\"on\",\n",
    "    contour_shade_colour_method=\"list\",\n",
    "    contour_shade_technique=\"GRID_SHADING\",\n",
    " #   contour_shade_colour_list=[\"RGB(0.75,0.95,0.93)\",\"RGB(0.45,0.93,0.78)\",\"RGB(0.06999,0.85,0.61)\",\"RGB(0.53,0.8,0.13)\",\"RGB(0.6,0.91,0.05699)\",\"RGB(0.9,1,0.4)\",\"RGB(0.89,0.89,0.066)\",\"RGB(1,0.73,0.003906)\",\"RGB(1,0.49,0.003906)\",\"red\",\"RGB(0.85,0.003906,1)\",\"RGB(0.63,0.007294,0.92)\",\"RGB(0.37,0.29,0.91)\",\"RGB(0.03999,0.03999,0.84)\",\"RGB(0.04199,0.04199,0.43)\",\"RGB(0.45,0.45,0.45)\"]\n",
    "    contour_shade_colour_list=[\"white\",\"RGB(0.75,0.95,0.93)\",\"RGB(0.45,0.93,0.78)\",\"RGB(0.06999,0.85,0.61)\",\"RGB(0.53,0.8,0.13)\",\"RGB(0.6,0.91,0.05699)\",\"RGB(0.9,1,0.4)\",\"RGB(0.89,0.89,0.066)\",\"RGB(1,0.73,0.003906)\",\"RGB(1,0.49,0.003906)\",\"red\",\"RGB(0.85,0.003906,1)\",\"RGB(0.63,0.007294,0.92)\",\"RGB(0.37,0.29,0.91)\",\"RGB(0.03999,0.03999,0.84)\",\"RGB(0.04199,0.04199,0.43)\",\"RGB(0.45,0.45,0.45)\"]\n",
    ")   "
   ]
  },
  {
   "cell_type": "code",
   "execution_count": 23,
   "id": "hawaiian-belgium",
   "metadata": {},
   "outputs": [],
   "source": [
    "legend = mv.mlegend(\n",
    "   legend_text_colour=\"black\",\n",
    "   legend_box_mode=\"positional\",\n",
    "   legend_box_y_position=12,\n",
    "   legend_box_y_length=1,\n",
    "   legend_box_x_length=30,\n",
    "   legend_box_x_position=4,   \n",
    "   legend_entry_border=\"off\", \n",
    "   legend_title=\"on\", \n",
    "   legend_units_text=\"mm/1h\",\n",
    "   legend_title_text=\"mm/1h\", \n",
    "   legend_title_position=\"right\", \n",
    "   legend_text_font_style=\"bold\",\n",
    "   legend_text_font_size=0.40,\n",
    "   legend_entry_text_width=50\n",
    "   )\n"
   ]
  },
  {
   "cell_type": "code",
   "execution_count": 24,
   "id": "great-microwave",
   "metadata": {},
   "outputs": [
    {
     "name": "stdout",
     "output_type": "stream",
     "text": [
      "31.0\n",
      "31.0\n",
      "['0', '1', '2', '3', '4', '5', '6', '7', '8', '9', '10', '11', '12', '13', '14', '15', '16', '17', '18', '19', '20', '21', '22', '23', '24', '25', '26', '27', '28', '29', '30']\n",
      "['0', '1', '2', '3', '4', '5', '6', '7', '8', '9', '10', '11', '12', '13', '14', '15', '16', '17', '18', '19', '20', '21', '22', '23', '24', '25', '26', '27', '28', '29', '30']\n",
      "30\n",
      "range(1, 30)\n"
     ]
    }
   ],
   "source": [
    "all_steps1 = tp1.grib_get_string('step')\n",
    "all_steps2 = tp2.grib_get_string('step')\n",
    "#print(all_steps)\n",
    "num_steps = int(mv.count(all_steps1))\n",
    "print(mv.count(all_steps1))\n",
    "print(mv.count(all_steps2))\n",
    "print(all_steps1)\n",
    "print(all_steps2)\n",
    "print(int(all_steps1[num_steps-1]))\n",
    "print(range(1, int(all_steps1[num_steps-1]), step_inc))"
   ]
  },
  {
   "cell_type": "markdown",
   "id": "encouraging-retail",
   "metadata": {},
   "source": [
    "## Plot and save outputs"
   ]
  },
  {
   "cell_type": "markdown",
   "id": "interested-horizontal",
   "metadata": {},
   "source": [
    "### *Plot at your time step*"
   ]
  },
  {
   "cell_type": "code",
   "execution_count": 25,
   "id": "prostate-argentina",
   "metadata": {
    "tags": []
   },
   "outputs": [
    {
     "name": "stdout",
     "output_type": "stream",
     "text": [
      "2024-04-15 13:00:00\n",
      "0\n",
      "1\n",
      "0\n",
      "1\n",
      "2024-04-15 14:00:00\n",
      "1\n",
      "2\n",
      "1\n",
      "2\n",
      "2024-04-15 15:00:00\n",
      "2\n",
      "3\n",
      "2\n",
      "3\n",
      "2024-04-15 16:00:00\n",
      "3\n",
      "4\n",
      "3\n",
      "4\n",
      "2024-04-15 17:00:00\n",
      "4\n",
      "5\n",
      "4\n",
      "5\n",
      "2024-04-15 18:00:00\n",
      "5\n",
      "6\n",
      "5\n",
      "6\n",
      "2024-04-15 19:00:00\n",
      "6\n",
      "7\n",
      "6\n",
      "7\n",
      "2024-04-15 20:00:00\n",
      "7\n",
      "8\n",
      "7\n",
      "8\n",
      "2024-04-15 21:00:00\n",
      "8\n",
      "9\n",
      "8\n",
      "9\n",
      "2024-04-15 22:00:00\n",
      "9\n",
      "10\n",
      "9\n",
      "10\n",
      "2024-04-15 23:00:00\n",
      "10\n",
      "11\n",
      "10\n",
      "11\n",
      "2024-04-16 00:00:00\n",
      "11\n",
      "12\n",
      "11\n",
      "12\n",
      "2024-04-16 01:00:00\n",
      "12\n",
      "13\n",
      "12\n",
      "13\n",
      "2024-04-16 02:00:00\n",
      "13\n",
      "14\n",
      "13\n",
      "14\n",
      "2024-04-16 03:00:00\n",
      "14\n",
      "15\n",
      "14\n",
      "15\n",
      "2024-04-16 04:00:00\n",
      "15\n",
      "16\n",
      "15\n",
      "16\n",
      "2024-04-16 05:00:00\n",
      "16\n",
      "17\n",
      "16\n",
      "17\n",
      "2024-04-16 06:00:00\n",
      "17\n",
      "18\n",
      "17\n",
      "18\n",
      "2024-04-16 07:00:00\n",
      "18\n",
      "19\n",
      "18\n",
      "19\n",
      "2024-04-16 08:00:00\n",
      "19\n",
      "20\n",
      "19\n",
      "20\n",
      "2024-04-16 09:00:00\n",
      "20\n",
      "21\n",
      "20\n",
      "21\n",
      "2024-04-16 10:00:00\n",
      "21\n",
      "22\n",
      "21\n",
      "22\n",
      "2024-04-16 11:00:00\n",
      "22\n",
      "23\n",
      "22\n",
      "23\n",
      "2024-04-16 12:00:00\n",
      "23\n",
      "24\n",
      "23\n",
      "24\n",
      "2024-04-16 13:00:00\n",
      "24\n",
      "25\n",
      "24\n",
      "25\n",
      "2024-04-16 14:00:00\n",
      "25\n",
      "26\n",
      "25\n",
      "26\n",
      "2024-04-16 15:00:00\n",
      "26\n",
      "27\n",
      "26\n",
      "27\n",
      "2024-04-16 16:00:00\n",
      "27\n",
      "28\n",
      "27\n",
      "28\n",
      "2024-04-16 17:00:00\n",
      "28\n",
      "29\n",
      "28\n",
      "29\n"
     ]
    }
   ],
   "source": [
    "for step in range(1, 30, 1):\n",
    "    date_verif = adate + timedelta(hours=step+12)\n",
    "    time_verif = mv.hour(date_verif)\n",
    "    print(date_verif)\n",
    "\n",
    "    tp1_end = tp1[step]\n",
    "    tp1_start = tp1[step-1]\n",
    "    print(tp1_start.grib_get_string('step'))\n",
    "    print(tp1_end.grib_get_string('step'))\n",
    "    tp2_end = tp2[step]\n",
    "    tp2_start = tp2[step-1]\n",
    "    print(tp2_start.grib_get_string('step'))\n",
    "    print(tp2_end.grib_get_string('step'))\n",
    "\n",
    "    \n",
    "    tp1_total=tp1_end-tp1_start\n",
    "    tp2_total=tp2_end-tp2_start\n",
    "        \n",
    "    step_name = step+12\n",
    "    text_plotting1 = mv.mtext(\n",
    "        text_line_count=2,\n",
    "        text_line_1=adate.strftime(\"%Y-%m-%d\") + \" T+\" + str(\"%2.0f\" % step_name) + \"h. Valid on \" + date_verif.strftime(\"%Y-%m-%d\") + \" at \" + str(\"%.0f\" % time_verif) + \" UTC\",\n",
    "        text_line_2=title1,\n",
    "        text_font_size=0.50,\n",
    "        text_color=\"black\"\n",
    "        )\n",
    "    \n",
    "    text_plotting2 = mv.mtext(\n",
    "        text_line_count=1,\n",
    "        text_line_1=title2,\n",
    "        text_font_size=0.50,\n",
    "        text_color=\"black\"\n",
    "        )\n",
    "    \n",
    "    text_plotting4 = mv.mtext(\n",
    "        text_line_count=1,\n",
    "        text_line_1='IMERG ' + ' ' +  \"Valid on \" + date_verif.strftime(\"%Y-%m-%d\") + \" at \" + str(\"%.0f\" % time_verif) + \" UTC\",\n",
    "        text_font_size=0.35,\n",
    "        text_color=\"black\"\n",
    "        )  \n",
    "    \n",
    "    dw = mv.plot_superpage(pages = mv.mvl_regular_layout(geoview,2,1,1,1,[30, 100, 3, 100]))\n",
    "    \n",
    "    mv.setoutput(mv.pdf_output(output_name=path_out + path_file_out + \"_\" + str(\"%03.0f\" % step) + \"h\"))\n",
    "\n",
    "    mv.plot(dw[0], tp1_total, R24_contour_new2_legend,coastlines, geoview, legend, text_plotting1,\n",
    "        dw[1], tp2_total,R24_contour_new2,coastlines, geoview, text_plotting2)\n",
    "    "
   ]
  },
  {
   "cell_type": "code",
   "execution_count": null,
   "id": "invisible-crash",
   "metadata": {},
   "outputs": [],
   "source": []
  },
  {
   "cell_type": "code",
   "execution_count": null,
   "id": "directed-channels",
   "metadata": {},
   "outputs": [],
   "source": []
  },
  {
   "cell_type": "code",
   "execution_count": null,
   "id": "6d688028-7866-460e-b8b6-19b22ca3f937",
   "metadata": {},
   "outputs": [],
   "source": []
  }
 ],
 "metadata": {
  "kernelspec": {
   "display_name": "Python 3.11.8-01",
   "language": "python",
   "name": "python3"
  },
  "language_info": {
   "codemirror_mode": {
    "name": "ipython",
    "version": 3
   },
   "file_extension": ".py",
   "mimetype": "text/x-python",
   "name": "python",
   "nbconvert_exporter": "python",
   "pygments_lexer": "ipython3",
   "version": "3.11.8"
  }
 },
 "nbformat": 4,
 "nbformat_minor": 5
}

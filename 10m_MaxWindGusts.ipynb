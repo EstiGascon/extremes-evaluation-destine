{
 "cells": [
  {
   "cell_type": "markdown",
   "id": "cellular-drill",
   "metadata": {},
   "source": [
    "# **10m Maximum Wind Gusts**"
   ]
  },
  {
   "cell_type": "code",
   "execution_count": 1,
   "id": "printable-identification",
   "metadata": {
    "tags": []
   },
   "outputs": [],
   "source": [
    "import metview as mv\n",
    "import numpy as np\n",
    "from datetime import date, datetime, timedelta\n",
    "import pandas as pd\n",
    "import numpy as np\n",
    "import os\n",
    "import csv\n",
    "import math"
   ]
  },
  {
   "cell_type": "markdown",
   "id": "preceding-forty",
   "metadata": {},
   "source": [
    "## Define your variables"
   ]
  },
  {
   "cell_type": "code",
   "execution_count": 105,
   "id": "expressed-semiconductor",
   "metadata": {},
   "outputs": [],
   "source": [
    "adate = datetime(2023,11,2)              # Forecast initialisation day\n",
    "atime = 0                               # Forecast initialisation time\n",
    "acc = 12                                # Accumulation period\n",
    "# steps=wind gusts are calculated accumulated from the previous post-processing, so we have to pick all the lead times. \n",
    "step_start=0                          # First step of the accumulated period \n",
    "step_end=12                             # Last step of the accumulated period\n",
    "step_inc=1                              # Increment between steps\n",
    "#steps = [25,26,27,28,29,30,31,32,33,34,35,36,37,38,39,40,41,42,43,44,45,46,47,48]\n",
    "expver = \"i4ql\"                         # Experiment version (expver)\n",
    "cycle = \"48r1\"                          # Model cycle \n",
    "res = \"4km\"                             # Horizontal resolution (of your experiment)\n",
    "var = \"10fg\"                              # Variable short name\n",
    "var_long = 'Maximum wind gust in 24h'       # Variable long name\n",
    "area = [43.64,-11.2,55.30,7]         # Plot area  \n",
    "#area = [41.1653,8.27424,43.1417,9.97412]    # Plot area ZOOM\n",
    "path_in = \"/ec/vol/destine/extreme_cases_grib/Ciaran_20231101/\"\n",
    "path_out = \"/perm/moeg/DestinE/CaseStudies/Ciaran_20231101/plots_outEVO/10mMax_WindGusts/\""
   ]
  },
  {
   "cell_type": "markdown",
   "id": "rational-survival",
   "metadata": {},
   "source": [
    "### *Print paths*"
   ]
  },
  {
   "cell_type": "code",
   "execution_count": 106,
   "id": "fleet-fitness",
   "metadata": {},
   "outputs": [
    {
     "name": "stdout",
     "output_type": "stream",
     "text": [
      "EXP: i4ql (48r1 4km)\n",
      "i4ql_48r1_4km_20231102.grib\n",
      "10fg_i4ql_48r1_4km_20231102_Mediterranean_48h\n"
     ]
    }
   ],
   "source": [
    "title = \"EXP: \" + expver + \" (\" + cycle + \" \" + res + \")\"\n",
    "path_file_in = expver + \"_\" + cycle + \"_\" + res + \"_\" + adate.strftime(\"%Y%m%d\")  + \".grib\" \n",
    "path_file_out = var + \"_\" + expver + \"_\" + cycle + \"_\" + res + \"_\" + adate.strftime(\"%Y%m%d\") + \"_Mediterranean_48h\"\n",
    "print(title)\n",
    "print(path_file_in)\n",
    "print(path_file_out)"
   ]
  },
  {
   "cell_type": "markdown",
   "id": "significant-spare",
   "metadata": {},
   "source": [
    "### *Create output folder if needed*"
   ]
  },
  {
   "cell_type": "code",
   "execution_count": 107,
   "id": "intimate-archives",
   "metadata": {},
   "outputs": [],
   "source": [
    "# path to files\n",
    "if os.path.isdir(f\"{path_out}\") is False:\n",
    "    os.makedirs(f\"{path_out}\")"
   ]
  },
  {
   "cell_type": "markdown",
   "id": "atmospheric-charlotte",
   "metadata": {},
   "source": [
    "## Open grib files"
   ]
  },
  {
   "cell_type": "code",
   "execution_count": 108,
   "id": "fundamental-shopping",
   "metadata": {},
   "outputs": [
    {
     "name": "stdout",
     "output_type": "stream",
     "text": [
      "/ec/vol/destine/extreme_cases_grib/Ciaran_20231101/i4ql_48r1_4km_20231102.grib\n"
     ]
    }
   ],
   "source": [
    "file_grib = mv.read(path_in + path_file_in)\n",
    "print(path_in + path_file_in)"
   ]
  },
  {
   "cell_type": "markdown",
   "id": "coupled-latitude",
   "metadata": {},
   "source": [
    "### *Select your variables*"
   ]
  },
  {
   "cell_type": "code",
   "execution_count": 109,
   "id": "occupational-albany",
   "metadata": {},
   "outputs": [
    {
     "name": "stdout",
     "output_type": "stream",
     "text": [
      "[0, 1, 2, 3, 4, 5, 6, 7, 8, 9, 10, 11]\n"
     ]
    }
   ],
   "source": [
    "wg = file_grib.select(\n",
    "    step=list(range(step_start, step_end, step_inc)),\n",
    "    shortName=var,\n",
    "    )\n",
    "print(list(range(step_start, step_end, step_inc)))\n",
    "max_wg = mv.max(wg)"
   ]
  },
  {
   "cell_type": "markdown",
   "id": "underlying-grass",
   "metadata": {},
   "source": [
    "## Define plotting features"
   ]
  },
  {
   "cell_type": "code",
   "execution_count": 110,
   "id": "quality-guarantee",
   "metadata": {},
   "outputs": [],
   "source": [
    "wind_gusts_shades = mv.mcont(\n",
    "    legend=\"on\",\n",
    "    contour=\"off\",\n",
    "    contour_level_selection_type=\"level_list\",\n",
    "    contour_level_list=[2,4,6,8,10,12,14,16,18,20,22,24,26,28,30,32,34,36,38,40,42,44,46,50],\n",
    "    contour_shade=\"on\",\n",
    "    contour_shade_colour_method=\"list\",\n",
    "   # contour_shade_colour_list=[\"blue\",\"green\",\"orange\",\"red\",\"magenta\",\"brick\",\"chestnut\",\"evergreen\",\"black\"],\n",
    "    contour_shade_colour_list=[\"rgb(0.6,0.9,1)\",\n",
    "            \"rgb(0.45,0.7,1)\",\n",
    "            \"rgb(0.3,0.5,1)\",\n",
    "            \"rgb(0.15,0.3,1)\",\n",
    "            \"rgb(0.8,1,0.2)\",\n",
    "            \"rgb(0.65,0.95,0)\",\n",
    "            \"rgb(0.5,0.85,0)\",\n",
    "            \"rgb(0.15,0.75,0.1)\",\n",
    "            \"rgb(0,0.55,0.19)\",\n",
    "            \"rgb(1,0.85,0)\",\n",
    "            \"rgb(1,0.74,0)\",\n",
    "            \"rgb(1,0.62,0)\",\n",
    "            \"rgb(1,0.5,0)\",\n",
    "            \"rgb(0.85,0.45,0)\",\n",
    "            \"rgb(1,0.75,0.75)\",\n",
    "            \"rgb(1,0.5,0.5)\",\n",
    "            \"rgb(1,0,0)\",\n",
    "            \"rgb(0.8,0,0)\",\n",
    "            \"rgb(0.6,0,0)\",\n",
    "            \"rgb(0.85,0.6,1)\",\n",
    "            \"rgb(0.75,0.4,1)\",\n",
    "            \"rgb(0.6,0.2,1)\",\n",
    "            \"rgb(0.5,0,0.9)\",\n",
    "            \"rgb(0.35,0,0.6)\"],\n",
    "    contour_shade_method=\"area_fill\",\n",
    "    contour_label=\"off\",\n",
    "    contour_label_frequency=1,\n",
    "    contour_hilo=\"off\"\n",
    "    )\n",
    "\n",
    "\n",
    "coastlines = mv.mcoast(\n",
    "    map_coastline_thickness=4,\n",
    "    map_boundaries=\"on\",\n",
    "    map_boundaries_colour=\"black\",\n",
    "    map_boundaries_thickness=2,\n",
    "    map_disputed_boundaries_thickness=2,\n",
    "    map_administrative_boundaries=\"on\",\n",
    "    map_administrative_boundaries_countries_list=\"ita\",\n",
    "    map_administrative_boundaries_style=\"solid\",\n",
    "    map_administrative_boundaries_colour=\"red\",\n",
    "    map_grid=\"off\",\n",
    "    map_label=\"off\"\n",
    "    )\n",
    "\n",
    "\n",
    "geoview = mv.geoview(\n",
    "    map_projection=\"cylindrical\",\n",
    "    map_area_definition=\"corners\",\n",
    "    area=area,\n",
    "    coastlines=coastlines\n",
    "    )\n"
   ]
  },
  {
   "cell_type": "code",
   "execution_count": 111,
   "id": "french-zealand",
   "metadata": {},
   "outputs": [],
   "source": [
    "legend = mv.mlegend(\n",
    "   legend_text_colour=\"black\",\n",
    "   legend_automatic_position=\"right\",\n",
    "   legend_units_text=\"m/s\",\n",
    "   legend_text_font_style=\"bold\",\n",
    "   legend_text_font_size=0.55,\n",
    "   legend_entry_text_width=50\n",
    "   )"
   ]
  },
  {
   "cell_type": "markdown",
   "id": "every-wallet",
   "metadata": {},
   "source": [
    "## Plot and save outputs"
   ]
  },
  {
   "cell_type": "markdown",
   "id": "molecular-packet",
   "metadata": {},
   "source": [
    "### *Plot at your time step*"
   ]
  },
  {
   "cell_type": "code",
   "execution_count": 112,
   "id": "popular-vermont",
   "metadata": {},
   "outputs": [
    {
     "name": "stdout",
     "output_type": "stream",
     "text": [
      "2023-11-02 12:00:00\n"
     ]
    }
   ],
   "source": [
    "date_verif = adate + timedelta(hours=step_end)\n",
    "time_verif = mv.hour(date_verif)\n",
    "print(date_verif)\n",
    "\n",
    "text_plotting = mv.mtext(\n",
    "    text_line_count=3,\n",
    "    text_line_1=var_long,\n",
    "    text_line_2=adate.strftime(\"%Y-%m-%d\") + \" T+\" + str(\"%2.0f\" % step_end) + \"h. Valid on \" + date_verif.strftime(\"%Y-%m-%d\") + \" at \" + str(\"%.0f\" % time_verif) + \" UTC\",\n",
    "    text_line_3=title, \n",
    "    text_font_size=0.8\n",
    "    )\n",
    "\n",
    "mv.setoutput(mv.pdf_output(output_name=path_out + path_file_out + \"_\" + str(\"%03.0f\" % step_end) + \"h\"))\n",
    "\n",
    "mv.plot(max_wg,wind_gusts_shades, geoview, legend, text_plotting)"
   ]
  },
  {
   "cell_type": "code",
   "execution_count": null,
   "id": "hungarian-factory",
   "metadata": {},
   "outputs": [],
   "source": []
  },
  {
   "cell_type": "code",
   "execution_count": null,
   "id": "graphic-banana",
   "metadata": {},
   "outputs": [],
   "source": []
  },
  {
   "cell_type": "code",
   "execution_count": null,
   "id": "engaged-bryan",
   "metadata": {},
   "outputs": [],
   "source": []
  }
 ],
 "metadata": {
  "kernelspec": {
   "display_name": "Python 3.10.10-01",
   "language": "python",
   "name": "python3"
  },
  "language_info": {
   "codemirror_mode": {
    "name": "ipython",
    "version": 3
   },
   "file_extension": ".py",
   "mimetype": "text/x-python",
   "name": "python",
   "nbconvert_exporter": "python",
   "pygments_lexer": "ipython3",
   "version": "3.10.10"
  }
 },
 "nbformat": 4,
 "nbformat_minor": 5
}

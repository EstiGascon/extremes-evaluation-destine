{
 "cells": [
  {
   "cell_type": "markdown",
   "id": "elect-china",
   "metadata": {},
   "source": [
    "# **PLOT ACCUMULATED PRECIPITATION**"
   ]
  },
  {
   "cell_type": "code",
   "execution_count": 1,
   "id": "impossible-geography",
   "metadata": {
    "tags": []
   },
   "outputs": [],
   "source": [
    "import metview as mv\n",
    "import numpy as np\n",
    "from datetime import date, datetime, timedelta\n",
    "import pandas as pd\n",
    "import numpy as np\n",
    "import os\n",
    "import csv\n",
    "import math"
   ]
  },
  {
   "cell_type": "markdown",
   "id": "increased-designer",
   "metadata": {},
   "source": [
    "## Define your variables"
   ]
  },
  {
   "cell_type": "code",
   "execution_count": 100,
   "id": "combined-chest",
   "metadata": {
    "tags": []
   },
   "outputs": [],
   "source": [
    "adate = datetime(2024,3,8)              # Forecast initialisation day\n",
    "atime = 0                                # Forecast initialisation time\n",
    "acc = 24                                 # Accumulation period\n",
    "step = 54                                # Forecast step (end of accumulation period)\n",
    "expver = \"i4ql\"                          # Experiment version (expver)\n",
    "cycle = \"48r1\"                          # Model cycle \n",
    "res = \"4km\"                              # Horizontal resolution (of your experiment)\n",
    "var = \"tp\"                               # Variable short name\n",
    "var_long = 'Total precipitation in 24h (mm)' # Variable long name\n",
    "area = [ 40.4029,-0.327171,49.0789,8.39251 ]             # Plot area\n",
    "#area = [ 44.7684,6.33794,46.2079,8.77477 ]\n",
    "path_in = \"/ec/vol/destine/extreme_cases_grib/MonicaStorm_france_20240310/\"\n",
    "path_out = \"/perm/moeg/DestinE/CaseStudies/MonicaStorm_france_20240310/plots_outEVO/24hprecip/\""
   ]
  },
  {
   "cell_type": "markdown",
   "id": "addressed-wiring",
   "metadata": {},
   "source": [
    "### *Print paths*"
   ]
  },
  {
   "cell_type": "code",
   "execution_count": 101,
   "id": "formal-surge",
   "metadata": {
    "tags": []
   },
   "outputs": [
    {
     "name": "stdout",
     "output_type": "stream",
     "text": [
      "EXP: i4ql (48r1 4km)\n",
      "i4ql_48r1_4km_20240308.grib\n",
      "tp_i4ql_48r1_4km_20240308_new_colours\n"
     ]
    }
   ],
   "source": [
    "title = \"EXP: \" + expver + \" (\" + cycle + \" \" + res + \")\"\n",
    "path_file_in = expver + \"_\" + cycle + \"_\" + res + \"_\" + adate.strftime(\"%Y%m%d\")  + \".grib\" \n",
    "path_file_out = var + \"_\" + expver + \"_\" + cycle + \"_\" + res + \"_\" + adate.strftime(\"%Y%m%d\") + \"_new_colours\"\n",
    "\n",
    "print(title)\n",
    "print(path_file_in)\n",
    "print(path_file_out)"
   ]
  },
  {
   "cell_type": "markdown",
   "id": "german-coach",
   "metadata": {},
   "source": [
    "### *Create output folder if needed*"
   ]
  },
  {
   "cell_type": "code",
   "execution_count": 102,
   "id": "competitive-shanghai",
   "metadata": {
    "tags": []
   },
   "outputs": [],
   "source": [
    "# path to files\n",
    "if os.path.isdir(f\"{path_out}\") is False:\n",
    "    os.makedirs(f\"{path_out}\")"
   ]
  },
  {
   "cell_type": "markdown",
   "id": "happy-custom",
   "metadata": {},
   "source": [
    "## Open grib files"
   ]
  },
  {
   "cell_type": "code",
   "execution_count": 103,
   "id": "innovative-whole",
   "metadata": {
    "tags": []
   },
   "outputs": [
    {
     "name": "stdout",
     "output_type": "stream",
     "text": [
      "/ec/vol/destine/extreme_cases_grib/MonicaStorm_france_20240310/i4ql_48r1_4km_20240308.grib\n"
     ]
    }
   ],
   "source": [
    "file_grib = mv.read(path_in + path_file_in)\n",
    "print(path_in + path_file_in)"
   ]
  },
  {
   "cell_type": "markdown",
   "id": "wicked-production",
   "metadata": {},
   "source": [
    "### *Select your variables*"
   ]
  },
  {
   "cell_type": "code",
   "execution_count": 104,
   "id": "technical-jenny",
   "metadata": {
    "tags": []
   },
   "outputs": [],
   "source": [
    "tp_start = file_grib.select(\n",
    "    step=step-acc,\n",
    "    shortName=var,\n",
    "    )\n",
    "tp_end = file_grib.select(\n",
    "    step=step,\n",
    "    shortName=var,\n",
    "    )\n",
    "\n",
    "tp_total=(tp_end-tp_start)*1000"
   ]
  },
  {
   "cell_type": "markdown",
   "id": "chemical-celebrity",
   "metadata": {},
   "source": [
    "## Define plotting features"
   ]
  },
  {
   "cell_type": "code",
   "execution_count": 105,
   "id": "invalid-sensitivity",
   "metadata": {
    "tags": []
   },
   "outputs": [],
   "source": [
    "coastlines = mv.mcoast(\n",
    "    map_coastline_thickness=4,\n",
    "    map_coastline_land_shade=\"on\",\n",
    "    map_coastline_land_shade_colour=\"cream\",\n",
    "    map_coastline_sea_shade=\"on\",\n",
    "    map_coastline_sea_shade_colour=\"sky\",\n",
    "    map_grid=\"off\",\n",
    "    map_label=\"off\",\n",
    "    map_boundaries=\"on\",\n",
    "    map_boundaries_color=\"black\",\n",
    "    map_boundaries_thickness=\"2\",\n",
    "    map_disputed_boundaries_thickness=\"2\",\n",
    "    map_administrative_boundaries=\"on\",\n",
    "    map_administrative_boundaries_countries_list=\"ita\",\n",
    "    map_administrative_boundaries_style=\"solid\",\n",
    "    map_administrative_boundaries_colour=\"red\"\n",
    "    )\n",
    "\n",
    "geoview = mv.geoview(\n",
    "    map_projection=\"cylindrical\",\n",
    "    map_area_definition=\"corners\",\n",
    "    area=area,\n",
    "    coastlines=coastlines\n",
    "    )\n",
    "\n",
    "R24_contour = mv.mcont(\n",
    "    legend=\"on\",\n",
    "    contour=\"off\",\n",
    "    contour_level_selection_type=\"level_list\",\n",
    "    contour_level_list=[0.5,5,10,30,50,100,150,200,300,400,600],\n",
    "    contour_label=\"off\",\n",
    "    contour_shade=\"on\",\n",
    "    contour_shade_colour_method=\"list\",\n",
    "    contour_shade_technique=\"GRID_SHADING\",\n",
    " #   contour_shade_colour_list=[\"RGB(0.75,0.95,0.93)\",\"RGB(0.45,0.93,0.78)\",\"RGB(0.06999,0.85,0.61)\",\"RGB(0.53,0.8,0.13)\",\"RGB(0.6,0.91,0.05699)\",\"RGB(0.9,1,0.4)\",\"RGB(0.89,0.89,0.066)\",\"RGB(1,0.73,0.003906)\",\"RGB(1,0.49,0.003906)\",\"red\",\"RGB(0.85,0.003906,1)\",\"RGB(0.63,0.007294,0.92)\",\"RGB(0.37,0.29,0.91)\",\"RGB(0.03999,0.03999,0.84)\",\"RGB(0.04199,0.04199,0.43)\",\"RGB(0.45,0.45,0.45)\"]\n",
    "    contour_shade_colour_list=[\"RGB(0.75,0.95,0.93)\",\"RGB(0.06999,0.85,0.61)\",\"RGB(0.6,0.91,0.05699)\",\"RGB(1,1,0.01176)\",\"RGB(1,0.73,0.003906)\",\"RGB(0.9649,0.00763,0.1672)\",'RGB(0.6846,0.0072,0.9104)',\"RGB(0.3101,0.5765,0.9762)\",\"RGB(0.08035,0.06867,0.07549)\",'RGB(0.8824,0.8824,0.8824)']    \n",
    ") \n",
    "\n",
    "R24_contour2 = mv.mcont(\n",
    "    legend=\"on\",\n",
    "    contour=\"off\",\n",
    "    contour_level_selection_type=\"level_list\",\n",
    "    contour_level_list=[0.5,2,5,10,20,30,40,50,60,80,100,125,150,200,300,500,1000],\n",
    "    contour_label=\"off\",\n",
    "    contour_shade=\"on\",\n",
    "    contour_shade_colour_method=\"list\",\n",
    "    contour_shade_technique=\"GRID_SHADING\",\n",
    "    contour_shade_colour_list=[\"RGB(0.75,0.95,0.93)\",\"RGB(0.45,0.93,0.78)\",\"RGB(0.06999,0.85,0.61)\",\"RGB(0.53,0.8,0.13)\",\"RGB(0.6,0.91,0.05699)\",\"RGB(0.9,1,0.4)\",\"RGB(0.89,0.89,0.066)\",\"RGB(1,0.73,0.003906)\",\"RGB(1,0.49,0.003906)\",\"red\",\"RGB(0.85,0.003906,1)\",\"RGB(0.63,0.007294,0.92)\",\"RGB(0.37,0.29,0.91)\",\"RGB(0.03999,0.03999,0.84)\",\"RGB(0.04199,0.04199,0.43)\",\"RGB(0.45,0.45,0.45)\"]\n",
    "    )   "
   ]
  },
  {
   "cell_type": "code",
   "execution_count": 106,
   "id": "respiratory-water",
   "metadata": {
    "tags": []
   },
   "outputs": [],
   "source": [
    "legend = mv.mlegend(\n",
    "   legend_text_colour=\"black\",\n",
    "   legend_automatic_position=\"right\",\n",
    "   legend_units_text=\"m/s\",\n",
    "   legend_text_font_style=\"bold\",\n",
    "   legend_text_font_size=0.55,\n",
    "   legend_entry_text_width=50\n",
    "   )"
   ]
  },
  {
   "cell_type": "markdown",
   "id": "developing-baltimore",
   "metadata": {},
   "source": [
    "## Plot and save outputs"
   ]
  },
  {
   "cell_type": "markdown",
   "id": "quantitative-economics",
   "metadata": {},
   "source": [
    "### *Plot at your time step*"
   ]
  },
  {
   "cell_type": "code",
   "execution_count": 107,
   "id": "pressing-penalty",
   "metadata": {
    "tags": []
   },
   "outputs": [
    {
     "name": "stdout",
     "output_type": "stream",
     "text": [
      "2024-03-10 06:00:00\n"
     ]
    },
    {
     "data": {
      "application/vnd.jupyter.widget-view+json": {
       "model_id": "5f5514e7383b4b40a4f10a2943fff2f4",
       "version_major": 2,
       "version_minor": 0
      },
      "text/plain": [
       "Image(value=b'', layout=\"Layout(visibility='hidden')\")"
      ]
     },
     "metadata": {},
     "output_type": "display_data"
    },
    {
     "data": {
      "application/vnd.jupyter.widget-view+json": {
       "model_id": "347c27427635416b96782678c26fab01",
       "version_major": 2,
       "version_minor": 0
      },
      "text/plain": [
       "Label(value='Generating plots....')"
      ]
     },
     "metadata": {},
     "output_type": "display_data"
    }
   ],
   "source": [
    "date_verif = adate + timedelta(hours=step)\n",
    "time_verif = mv.hour(date_verif)\n",
    "print(date_verif)\n",
    "\n",
    "tp_end = tp_end.select(step=step)\n",
    "\n",
    "text_plotting = mv.mtext(\n",
    "    text_line_count=3,\n",
    "    text_line_1=var_long,\n",
    "    text_line_2=adate.strftime(\"%Y-%m-%d\") + \" T+\" + str(\"%2.0f\" % step) + \"h. Valid on \" + date_verif.strftime(\"%Y-%m-%d\") + \" at \" + str(\"%.0f\" % time_verif) + \" UTC\",\n",
    "    text_line_3=title, \n",
    "    text_font_size=0.8\n",
    "    )\n",
    "\n",
    "#mv.setoutput(mv.pdf_output(output_name=path_out + path_file_out + \"_\" + str(\"%03.0f\" % step) + \"h\"))\n",
    "\n",
    "mv.plot(tp_total,R24_contour2,coastlines, geoview, legend, text_plotting)"
   ]
  },
  {
   "cell_type": "code",
   "execution_count": null,
   "id": "tight-panel",
   "metadata": {},
   "outputs": [],
   "source": []
  },
  {
   "cell_type": "code",
   "execution_count": null,
   "id": "progressive-portsmouth",
   "metadata": {},
   "outputs": [],
   "source": []
  },
  {
   "cell_type": "code",
   "execution_count": null,
   "id": "alive-leeds",
   "metadata": {},
   "outputs": [],
   "source": []
  },
  {
   "cell_type": "code",
   "execution_count": null,
   "id": "seven-crack",
   "metadata": {},
   "outputs": [],
   "source": []
  }
 ],
 "metadata": {
  "kernelspec": {
   "display_name": "Python 3.10.10-01",
   "language": "python",
   "name": "python3"
  },
  "language_info": {
   "codemirror_mode": {
    "name": "ipython",
    "version": 3
   },
   "file_extension": ".py",
   "mimetype": "text/x-python",
   "name": "python",
   "nbconvert_exporter": "python",
   "pygments_lexer": "ipython3",
   "version": "3.10.10"
  }
 },
 "nbformat": 4,
 "nbformat_minor": 5
}
